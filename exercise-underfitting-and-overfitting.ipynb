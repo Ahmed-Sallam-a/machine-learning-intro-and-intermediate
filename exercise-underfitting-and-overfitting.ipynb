{
 "cells": [
  {
   "cell_type": "markdown",
   "id": "464e0db3",
   "metadata": {
    "papermill": {
     "duration": 0.005984,
     "end_time": "2023-07-01T04:10:15.043861",
     "exception": false,
     "start_time": "2023-07-01T04:10:15.037877",
     "status": "completed"
    },
    "tags": []
   },
   "source": [
    "**This notebook is an exercise in the [Introduction to Machine Learning](https://www.kaggle.com/learn/intro-to-machine-learning) course.  You can reference the tutorial at [this link](https://www.kaggle.com/dansbecker/underfitting-and-overfitting).**\n",
    "\n",
    "---\n"
   ]
  },
  {
   "cell_type": "markdown",
   "id": "ea446ce7",
   "metadata": {
    "papermill": {
     "duration": 0.00421,
     "end_time": "2023-07-01T04:10:15.052944",
     "exception": false,
     "start_time": "2023-07-01T04:10:15.048734",
     "status": "completed"
    },
    "tags": []
   },
   "source": [
    "## Recap\n",
    "You've built your first model, and now it's time to optimize the size of the tree to make better predictions. Run this cell to set up your coding environment where the previous step left off."
   ]
  },
  {
   "cell_type": "code",
   "execution_count": 1,
   "id": "c45c1bf5",
   "metadata": {
    "execution": {
     "iopub.execute_input": "2023-07-01T04:10:15.063815Z",
     "iopub.status.busy": "2023-07-01T04:10:15.063150Z",
     "iopub.status.idle": "2023-07-01T04:10:16.960801Z",
     "shell.execute_reply": "2023-07-01T04:10:16.959369Z"
    },
    "papermill": {
     "duration": 1.906242,
     "end_time": "2023-07-01T04:10:16.963625",
     "exception": false,
     "start_time": "2023-07-01T04:10:15.057383",
     "status": "completed"
    },
    "tags": []
   },
   "outputs": [
    {
     "name": "stdout",
     "output_type": "stream",
     "text": [
      "Validation MAE: 29,653\n",
      "\n",
      "Setup complete\n"
     ]
    }
   ],
   "source": [
    "# Code you have previously used to load data\n",
    "import pandas as pd\n",
    "from sklearn.metrics import mean_absolute_error\n",
    "from sklearn.model_selection import train_test_split\n",
    "from sklearn.tree import DecisionTreeRegressor\n",
    "\n",
    "\n",
    "# Path of the file to read\n",
    "iowa_file_path = '../input/home-data-for-ml-course/train.csv'\n",
    "\n",
    "home_data = pd.read_csv(iowa_file_path)\n",
    "# Create target object and call it y\n",
    "y = home_data.SalePrice\n",
    "# Create X\n",
    "features = ['LotArea', 'YearBuilt', '1stFlrSF', '2ndFlrSF', 'FullBath', 'BedroomAbvGr', 'TotRmsAbvGrd']\n",
    "X = home_data[features]\n",
    "\n",
    "# Split into validation and training data\n",
    "train_X, val_X, train_y, val_y = train_test_split(X, y, random_state=1)\n",
    "\n",
    "# Specify Model\n",
    "iowa_model = DecisionTreeRegressor(random_state=1)\n",
    "# Fit Model\n",
    "iowa_model.fit(train_X, train_y)\n",
    "\n",
    "# Make validation predictions and calculate mean absolute error\n",
    "val_predictions = iowa_model.predict(val_X)\n",
    "val_mae = mean_absolute_error(val_predictions, val_y)\n",
    "print(\"Validation MAE: {:,.0f}\".format(val_mae))\n",
    "\n",
    "# Set up code checking\n",
    "from learntools.core import binder\n",
    "binder.bind(globals())\n",
    "from learntools.machine_learning.ex5 import *\n",
    "print(\"\\nSetup complete\")"
   ]
  },
  {
   "cell_type": "markdown",
   "id": "056c5a84",
   "metadata": {
    "papermill": {
     "duration": 0.004246,
     "end_time": "2023-07-01T04:10:16.972615",
     "exception": false,
     "start_time": "2023-07-01T04:10:16.968369",
     "status": "completed"
    },
    "tags": []
   },
   "source": [
    "# Exercises\n",
    "You could write the function `get_mae` yourself. For now, we'll supply it. This is the same function you read about in the previous lesson. Just run the cell below."
   ]
  },
  {
   "cell_type": "code",
   "execution_count": 2,
   "id": "e5de7c0c",
   "metadata": {
    "execution": {
     "iopub.execute_input": "2023-07-01T04:10:16.983464Z",
     "iopub.status.busy": "2023-07-01T04:10:16.983079Z",
     "iopub.status.idle": "2023-07-01T04:10:16.989689Z",
     "shell.execute_reply": "2023-07-01T04:10:16.988517Z"
    },
    "papermill": {
     "duration": 0.014946,
     "end_time": "2023-07-01T04:10:16.992165",
     "exception": false,
     "start_time": "2023-07-01T04:10:16.977219",
     "status": "completed"
    },
    "tags": []
   },
   "outputs": [],
   "source": [
    "def get_mae(max_leaf_nodes, train_X, val_X, train_y, val_y):\n",
    "    model = DecisionTreeRegressor(max_leaf_nodes=max_leaf_nodes, random_state=0)\n",
    "    model.fit(train_X, train_y)\n",
    "    preds_val = model.predict(val_X)\n",
    "    mae = mean_absolute_error(val_y, preds_val)\n",
    "    return(mae)"
   ]
  },
  {
   "cell_type": "markdown",
   "id": "ecc3348a",
   "metadata": {
    "papermill": {
     "duration": 0.004198,
     "end_time": "2023-07-01T04:10:17.000820",
     "exception": false,
     "start_time": "2023-07-01T04:10:16.996622",
     "status": "completed"
    },
    "tags": []
   },
   "source": [
    "## Step 1: Compare Different Tree Sizes\n",
    "Write a loop that tries the following values for *max_leaf_nodes* from a set of possible values.\n",
    "\n",
    "Call the *get_mae* function on each value of max_leaf_nodes. Store the output in some way that allows you to select the value of `max_leaf_nodes` that gives the most accurate model on your data."
   ]
  },
  {
   "cell_type": "code",
   "execution_count": 3,
   "id": "a83a13fc",
   "metadata": {
    "execution": {
     "iopub.execute_input": "2023-07-01T04:10:17.011348Z",
     "iopub.status.busy": "2023-07-01T04:10:17.010974Z",
     "iopub.status.idle": "2023-07-01T04:10:17.070411Z",
     "shell.execute_reply": "2023-07-01T04:10:17.069077Z"
    },
    "papermill": {
     "duration": 0.067724,
     "end_time": "2023-07-01T04:10:17.072918",
     "exception": false,
     "start_time": "2023-07-01T04:10:17.005194",
     "status": "completed"
    },
    "tags": []
   },
   "outputs": [
    {
     "data": {
      "application/javascript": [
       "parent.postMessage({\"jupyterEvent\": \"custom.exercise_interaction\", \"data\": {\"outcomeType\": 1, \"valueTowardsCompletion\": 0.5, \"interactionType\": 1, \"questionType\": 1, \"questionId\": \"1_BestTreeSize\", \"learnToolsVersion\": \"0.3.4\", \"failureMessage\": \"\", \"exceptionClass\": \"\", \"trace\": \"\"}}, \"*\")"
      ],
      "text/plain": [
       "<IPython.core.display.Javascript object>"
      ]
     },
     "metadata": {},
     "output_type": "display_data"
    },
    {
     "data": {
      "text/markdown": [
       "<span style=\"color:#33cc33\">Correct</span>"
      ],
      "text/plain": [
       "Correct"
      ]
     },
     "metadata": {},
     "output_type": "display_data"
    }
   ],
   "source": [
    "candidate_max_leaf_nodes = [5, 25, 50, 100, 250, 500]\n",
    "# Write loop to find the ideal tree size from candidate_max_leaf_nodes\n",
    "mae = get_mae(5, train_X, val_X, train_y, val_y)\n",
    "leaves=0\n",
    "for max_leaf_nodes in candidate_max_leaf_nodes:\n",
    "    maec = get_mae(max_leaf_nodes, train_X, val_X, train_y, val_y)\n",
    "    if maec < mae :\n",
    "        mae = maec\n",
    "        leaves = max_leaf_nodes\n",
    "# Store the best value of max_leaf_nodes (it will be either 5, 25, 50, 100, 250 or 500)\n",
    "best_tree_size = leaves\n",
    "\n",
    "# Check your answer\n",
    "step_1.check()"
   ]
  },
  {
   "cell_type": "code",
   "execution_count": 4,
   "id": "9e89a426",
   "metadata": {
    "execution": {
     "iopub.execute_input": "2023-07-01T04:10:17.084015Z",
     "iopub.status.busy": "2023-07-01T04:10:17.083629Z",
     "iopub.status.idle": "2023-07-01T04:10:17.089086Z",
     "shell.execute_reply": "2023-07-01T04:10:17.087864Z"
    },
    "papermill": {
     "duration": 0.013933,
     "end_time": "2023-07-01T04:10:17.091552",
     "exception": false,
     "start_time": "2023-07-01T04:10:17.077619",
     "status": "completed"
    },
    "tags": []
   },
   "outputs": [],
   "source": [
    "# The lines below will show you a hint or the solution.\n",
    "# step_1.hint() \n",
    "#step_1.solution()"
   ]
  },
  {
   "cell_type": "markdown",
   "id": "bd394bd7",
   "metadata": {
    "papermill": {
     "duration": 0.004378,
     "end_time": "2023-07-01T04:10:17.102277",
     "exception": false,
     "start_time": "2023-07-01T04:10:17.097899",
     "status": "completed"
    },
    "tags": []
   },
   "source": [
    "## Step 2: Fit Model Using All Data\n",
    "You know the best tree size. If you were going to deploy this model in practice, you would make it even more accurate by using all of the data and keeping that tree size.  That is, you don't need to hold out the validation data now that you've made all your modeling decisions."
   ]
  },
  {
   "cell_type": "code",
   "execution_count": 5,
   "id": "1ffe5026",
   "metadata": {
    "execution": {
     "iopub.execute_input": "2023-07-01T04:10:17.113372Z",
     "iopub.status.busy": "2023-07-01T04:10:17.112998Z",
     "iopub.status.idle": "2023-07-01T04:10:17.131628Z",
     "shell.execute_reply": "2023-07-01T04:10:17.130148Z"
    },
    "papermill": {
     "duration": 0.027341,
     "end_time": "2023-07-01T04:10:17.134225",
     "exception": false,
     "start_time": "2023-07-01T04:10:17.106884",
     "status": "completed"
    },
    "tags": []
   },
   "outputs": [
    {
     "data": {
      "application/javascript": [
       "parent.postMessage({\"jupyterEvent\": \"custom.exercise_interaction\", \"data\": {\"outcomeType\": 1, \"valueTowardsCompletion\": 0.5, \"interactionType\": 1, \"questionType\": 2, \"questionId\": \"2_FitModelWithAllData\", \"learnToolsVersion\": \"0.3.4\", \"failureMessage\": \"\", \"exceptionClass\": \"\", \"trace\": \"\"}}, \"*\")"
      ],
      "text/plain": [
       "<IPython.core.display.Javascript object>"
      ]
     },
     "metadata": {},
     "output_type": "display_data"
    },
    {
     "data": {
      "text/markdown": [
       "<span style=\"color:#33cc33\">Correct</span>"
      ],
      "text/plain": [
       "Correct"
      ]
     },
     "metadata": {},
     "output_type": "display_data"
    }
   ],
   "source": [
    "# Fill in argument to make optimal size and uncomment\n",
    "final_model = DecisionTreeRegressor(max_leaf_nodes = 100,random_state = 1)\n",
    "\n",
    "# fit the final model and uncomment the next two lines\n",
    "final_model.fit(X, y)\n",
    "\n",
    "# Check your answer\n",
    "step_2.check()"
   ]
  },
  {
   "cell_type": "code",
   "execution_count": 6,
   "id": "38758638",
   "metadata": {
    "execution": {
     "iopub.execute_input": "2023-07-01T04:10:17.146320Z",
     "iopub.status.busy": "2023-07-01T04:10:17.145725Z",
     "iopub.status.idle": "2023-07-01T04:10:17.150009Z",
     "shell.execute_reply": "2023-07-01T04:10:17.149161Z"
    },
    "papermill": {
     "duration": 0.012982,
     "end_time": "2023-07-01T04:10:17.152150",
     "exception": false,
     "start_time": "2023-07-01T04:10:17.139168",
     "status": "completed"
    },
    "tags": []
   },
   "outputs": [],
   "source": [
    "# step_2.hint()\n",
    "# step_2.solution()"
   ]
  },
  {
   "cell_type": "markdown",
   "id": "e3342c09",
   "metadata": {
    "papermill": {
     "duration": 0.004809,
     "end_time": "2023-07-01T04:10:17.162109",
     "exception": false,
     "start_time": "2023-07-01T04:10:17.157300",
     "status": "completed"
    },
    "tags": []
   },
   "source": [
    "You've tuned this model and improved your results. But we are still using Decision Tree models, which are not very sophisticated by modern machine learning standards. In the next step you will learn to use Random Forests to improve your models even more.\n",
    "\n",
    "# Keep Going\n",
    "\n",
    "You are ready for **[Random Forests](https://www.kaggle.com/dansbecker/random-forests).**\n"
   ]
  },
  {
   "cell_type": "markdown",
   "id": "463df8b1",
   "metadata": {
    "papermill": {
     "duration": 0.004748,
     "end_time": "2023-07-01T04:10:17.171895",
     "exception": false,
     "start_time": "2023-07-01T04:10:17.167147",
     "status": "completed"
    },
    "tags": []
   },
   "source": [
    "---\n",
    "\n",
    "\n",
    "\n",
    "\n",
    "*Have questions or comments? Visit the [course discussion forum](https://www.kaggle.com/learn/intro-to-machine-learning/discussion) to chat with other learners.*"
   ]
  }
 ],
 "metadata": {
  "kernelspec": {
   "display_name": "Python 3",
   "language": "python",
   "name": "python3"
  },
  "language_info": {
   "codemirror_mode": {
    "name": "ipython",
    "version": 3
   },
   "file_extension": ".py",
   "mimetype": "text/x-python",
   "name": "python",
   "nbconvert_exporter": "python",
   "pygments_lexer": "ipython3",
   "version": "3.10.10"
  },
  "papermill": {
   "default_parameters": {},
   "duration": 15.505999,
   "end_time": "2023-07-01T04:10:18.201196",
   "environment_variables": {},
   "exception": null,
   "input_path": "__notebook__.ipynb",
   "output_path": "__notebook__.ipynb",
   "parameters": {},
   "start_time": "2023-07-01T04:10:02.695197",
   "version": "2.4.0"
  }
 },
 "nbformat": 4,
 "nbformat_minor": 5
}
