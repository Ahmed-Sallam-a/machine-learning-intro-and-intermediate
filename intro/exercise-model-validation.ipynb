{
 "cells": [
  {
   "cell_type": "markdown",
   "id": "5be3ef04",
   "metadata": {
    "papermill": {
     "duration": 0.005604,
     "end_time": "2023-07-01T01:45:30.777744",
     "exception": false,
     "start_time": "2023-07-01T01:45:30.772140",
     "status": "completed"
    },
    "tags": []
   },
   "source": [
    "**This notebook is an exercise in the [Introduction to Machine Learning](https://www.kaggle.com/learn/intro-to-machine-learning) course.  You can reference the tutorial at [this link](https://www.kaggle.com/dansbecker/model-validation).**\n",
    "\n",
    "---\n"
   ]
  },
  {
   "cell_type": "markdown",
   "id": "f1070c49",
   "metadata": {
    "papermill": {
     "duration": 0.005296,
     "end_time": "2023-07-01T01:45:30.788059",
     "exception": false,
     "start_time": "2023-07-01T01:45:30.782763",
     "status": "completed"
    },
    "tags": []
   },
   "source": [
    "## Recap\n",
    "You've built a model. In this exercise you will test how good your model is.\n",
    "\n",
    "Run the cell below to set up your coding environment where the previous exercise left off."
   ]
  },
  {
   "cell_type": "code",
   "execution_count": 1,
   "id": "91f78ac3",
   "metadata": {
    "execution": {
     "iopub.execute_input": "2023-07-01T01:45:30.800738Z",
     "iopub.status.busy": "2023-07-01T01:45:30.799494Z",
     "iopub.status.idle": "2023-07-01T01:45:32.585913Z",
     "shell.execute_reply": "2023-07-01T01:45:32.583897Z"
    },
    "papermill": {
     "duration": 1.794733,
     "end_time": "2023-07-01T01:45:32.587793",
     "exception": false,
     "start_time": "2023-07-01T01:45:30.793060",
     "status": "completed"
    },
    "tags": []
   },
   "outputs": [
    {
     "name": "stdout",
     "output_type": "stream",
     "text": [
      "First in-sample predictions: [208500. 181500. 223500. 140000. 250000.]\n",
      "Actual target values for those homes: [208500, 181500, 223500, 140000, 250000]\n",
      "Setup Complete\n"
     ]
    }
   ],
   "source": [
    "# Code you have previously used to load data\n",
    "import pandas as pd\n",
    "from sklearn.tree import DecisionTreeRegressor\n",
    "\n",
    "# Path of the file to read\n",
    "iowa_file_path = '../input/home-data-for-ml-course/train.csv'\n",
    "\n",
    "home_data = pd.read_csv(iowa_file_path)\n",
    "y = home_data.SalePrice\n",
    "feature_columns = ['LotArea', 'YearBuilt', '1stFlrSF', '2ndFlrSF', 'FullBath', 'BedroomAbvGr', 'TotRmsAbvGrd']\n",
    "X = home_data[feature_columns]\n",
    "\n",
    "# Specify Model\n",
    "iowa_model = DecisionTreeRegressor()\n",
    "# Fit Model\n",
    "iowa_model.fit(X, y)\n",
    "\n",
    "print(\"First in-sample predictions:\", iowa_model.predict(X.head()))\n",
    "print(\"Actual target values for those homes:\", y.head().tolist())\n",
    "\n",
    "# Set up code checking\n",
    "from learntools.core import binder\n",
    "binder.bind(globals())\n",
    "from learntools.machine_learning.ex4 import *\n",
    "print(\"Setup Complete\")"
   ]
  },
  {
   "cell_type": "markdown",
   "id": "7ad54b64",
   "metadata": {
    "papermill": {
     "duration": 0.003755,
     "end_time": "2023-07-01T01:45:32.595486",
     "exception": false,
     "start_time": "2023-07-01T01:45:32.591731",
     "status": "completed"
    },
    "tags": []
   },
   "source": [
    "# Exercises\n",
    "\n",
    "## Step 1: Split Your Data\n",
    "Use the `train_test_split` function to split up your data.\n",
    "\n",
    "Give it the argument `random_state=1` so the `check` functions know what to expect when verifying your code.\n",
    "\n",
    "Recall, your features are loaded in the DataFrame **X** and your target is loaded in **y**.\n"
   ]
  },
  {
   "cell_type": "code",
   "execution_count": 2,
   "id": "f3efe686",
   "metadata": {
    "execution": {
     "iopub.execute_input": "2023-07-01T01:45:32.605448Z",
     "iopub.status.busy": "2023-07-01T01:45:32.605036Z",
     "iopub.status.idle": "2023-07-01T01:45:32.618136Z",
     "shell.execute_reply": "2023-07-01T01:45:32.616897Z"
    },
    "papermill": {
     "duration": 0.02079,
     "end_time": "2023-07-01T01:45:32.620674",
     "exception": false,
     "start_time": "2023-07-01T01:45:32.599884",
     "status": "completed"
    },
    "tags": []
   },
   "outputs": [
    {
     "data": {
      "application/javascript": [
       "parent.postMessage({\"jupyterEvent\": \"custom.exercise_interaction\", \"data\": {\"outcomeType\": 1, \"valueTowardsCompletion\": 0.25, \"interactionType\": 1, \"questionType\": 2, \"questionId\": \"1_SplitData\", \"learnToolsVersion\": \"0.3.4\", \"failureMessage\": \"\", \"exceptionClass\": \"\", \"trace\": \"\"}}, \"*\")"
      ],
      "text/plain": [
       "<IPython.core.display.Javascript object>"
      ]
     },
     "metadata": {},
     "output_type": "display_data"
    },
    {
     "data": {
      "text/markdown": [
       "<span style=\"color:#33cc33\">Correct</span>"
      ],
      "text/plain": [
       "Correct"
      ]
     },
     "metadata": {},
     "output_type": "display_data"
    }
   ],
   "source": [
    "# Import the train_test_split function and uncomment\n",
    "from sklearn.model_selection import train_test_split\n",
    "train_X, val_X, train_y, val_y =train_test_split(X,y,random_state=1)\n",
    "\n",
    "# fill in and uncomment\n",
    "\n",
    "# Check your answer\n",
    "step_1.check()"
   ]
  },
  {
   "cell_type": "code",
   "execution_count": 3,
   "id": "3f29d1d3",
   "metadata": {
    "execution": {
     "iopub.execute_input": "2023-07-01T01:45:32.631011Z",
     "iopub.status.busy": "2023-07-01T01:45:32.630623Z",
     "iopub.status.idle": "2023-07-01T01:45:32.635620Z",
     "shell.execute_reply": "2023-07-01T01:45:32.634659Z"
    },
    "papermill": {
     "duration": 0.012254,
     "end_time": "2023-07-01T01:45:32.637395",
     "exception": false,
     "start_time": "2023-07-01T01:45:32.625141",
     "status": "completed"
    },
    "tags": []
   },
   "outputs": [],
   "source": [
    "# The lines below will show you a hint or the solution.\n",
    "# step_1.hint() \n",
    "#step_1.solution()\n"
   ]
  },
  {
   "cell_type": "markdown",
   "id": "6275e186",
   "metadata": {
    "papermill": {
     "duration": 0.003682,
     "end_time": "2023-07-01T01:45:32.646687",
     "exception": false,
     "start_time": "2023-07-01T01:45:32.643005",
     "status": "completed"
    },
    "tags": []
   },
   "source": [
    "## Step 2: Specify and Fit the Model\n",
    "\n",
    "Create a `DecisionTreeRegressor` model and fit it to the relevant data.\n",
    "Set `random_state` to 1 again when creating the model."
   ]
  },
  {
   "cell_type": "code",
   "execution_count": 4,
   "id": "23d30c2a",
   "metadata": {
    "execution": {
     "iopub.execute_input": "2023-07-01T01:45:32.656682Z",
     "iopub.status.busy": "2023-07-01T01:45:32.656283Z",
     "iopub.status.idle": "2023-07-01T01:45:32.681877Z",
     "shell.execute_reply": "2023-07-01T01:45:32.680074Z"
    },
    "papermill": {
     "duration": 0.033221,
     "end_time": "2023-07-01T01:45:32.684284",
     "exception": false,
     "start_time": "2023-07-01T01:45:32.651063",
     "status": "completed"
    },
    "tags": []
   },
   "outputs": [
    {
     "name": "stdout",
     "output_type": "stream",
     "text": [
      "[186500. 184000. 130000.  92000. 164500. 220000. 335000. 144152. 215000.\n",
      " 262000.]\n",
      "[186500. 184000. 130000.  92000. 164500. 220000. 335000. 144152. 215000.\n",
      " 262000.]\n"
     ]
    },
    {
     "data": {
      "application/javascript": [
       "parent.postMessage({\"jupyterEvent\": \"custom.exercise_interaction\", \"data\": {\"outcomeType\": 1, \"valueTowardsCompletion\": 0.25, \"interactionType\": 1, \"questionType\": 2, \"questionId\": \"2_FitModelWithTrain\", \"learnToolsVersion\": \"0.3.4\", \"failureMessage\": \"\", \"exceptionClass\": \"\", \"trace\": \"\"}}, \"*\")"
      ],
      "text/plain": [
       "<IPython.core.display.Javascript object>"
      ]
     },
     "metadata": {},
     "output_type": "display_data"
    },
    {
     "data": {
      "text/markdown": [
       "<span style=\"color:#33cc33\">Correct</span>"
      ],
      "text/plain": [
       "Correct"
      ]
     },
     "metadata": {},
     "output_type": "display_data"
    }
   ],
   "source": [
    "# You imported DecisionTreeRegressor in your last exercise\n",
    "# and that code has been copied to the setup code above. So, no need to\n",
    "# import it again\n",
    "\n",
    "# Specify the model\n",
    "iowa_model = DecisionTreeRegressor(random_state=1)\n",
    "\n",
    "# Fit iowa_model with the training data.\n",
    "iowa_model.fit(train_X,train_y)\n",
    "\n",
    "# Check your answer\n",
    "step_2.check()"
   ]
  },
  {
   "cell_type": "code",
   "execution_count": 5,
   "id": "2687c042",
   "metadata": {
    "execution": {
     "iopub.execute_input": "2023-07-01T01:45:32.694996Z",
     "iopub.status.busy": "2023-07-01T01:45:32.694529Z",
     "iopub.status.idle": "2023-07-01T01:45:32.699943Z",
     "shell.execute_reply": "2023-07-01T01:45:32.698447Z"
    },
    "papermill": {
     "duration": 0.013188,
     "end_time": "2023-07-01T01:45:32.702157",
     "exception": false,
     "start_time": "2023-07-01T01:45:32.688969",
     "status": "completed"
    },
    "tags": []
   },
   "outputs": [],
   "source": [
    "# step_2.hint()\n",
    "# step_2.solution()"
   ]
  },
  {
   "cell_type": "markdown",
   "id": "88c78be7",
   "metadata": {
    "papermill": {
     "duration": 0.004515,
     "end_time": "2023-07-01T01:45:32.712470",
     "exception": false,
     "start_time": "2023-07-01T01:45:32.707955",
     "status": "completed"
    },
    "tags": []
   },
   "source": [
    "## Step 3: Make Predictions with Validation data\n"
   ]
  },
  {
   "cell_type": "code",
   "execution_count": 6,
   "id": "2a24845b",
   "metadata": {
    "execution": {
     "iopub.execute_input": "2023-07-01T01:45:32.723530Z",
     "iopub.status.busy": "2023-07-01T01:45:32.722956Z",
     "iopub.status.idle": "2023-07-01T01:45:32.733487Z",
     "shell.execute_reply": "2023-07-01T01:45:32.732448Z"
    },
    "papermill": {
     "duration": 0.018168,
     "end_time": "2023-07-01T01:45:32.735302",
     "exception": false,
     "start_time": "2023-07-01T01:45:32.717134",
     "status": "completed"
    },
    "tags": []
   },
   "outputs": [
    {
     "data": {
      "application/javascript": [
       "parent.postMessage({\"jupyterEvent\": \"custom.exercise_interaction\", \"data\": {\"outcomeType\": 1, \"valueTowardsCompletion\": 0.25, \"interactionType\": 1, \"questionType\": 2, \"questionId\": \"3_ValPreds\", \"learnToolsVersion\": \"0.3.4\", \"failureMessage\": \"\", \"exceptionClass\": \"\", \"trace\": \"\"}}, \"*\")"
      ],
      "text/plain": [
       "<IPython.core.display.Javascript object>"
      ]
     },
     "metadata": {},
     "output_type": "display_data"
    },
    {
     "data": {
      "text/markdown": [
       "<span style=\"color:#33cc33\">Correct</span>"
      ],
      "text/plain": [
       "Correct"
      ]
     },
     "metadata": {},
     "output_type": "display_data"
    }
   ],
   "source": [
    "# Predict with all validation observations\n",
    "val_predictions = iowa_model.predict(val_X)\n",
    "\n",
    "# Check your answer\n",
    "step_3.check()"
   ]
  },
  {
   "cell_type": "code",
   "execution_count": 7,
   "id": "8956987a",
   "metadata": {
    "execution": {
     "iopub.execute_input": "2023-07-01T01:45:32.746141Z",
     "iopub.status.busy": "2023-07-01T01:45:32.745783Z",
     "iopub.status.idle": "2023-07-01T01:45:32.749469Z",
     "shell.execute_reply": "2023-07-01T01:45:32.748545Z"
    },
    "papermill": {
     "duration": 0.01105,
     "end_time": "2023-07-01T01:45:32.751053",
     "exception": false,
     "start_time": "2023-07-01T01:45:32.740003",
     "status": "completed"
    },
    "tags": []
   },
   "outputs": [],
   "source": [
    "# step_3.hint()\n",
    "# step_3.solution()"
   ]
  },
  {
   "cell_type": "markdown",
   "id": "7bf7dd2a",
   "metadata": {
    "papermill": {
     "duration": 0.004136,
     "end_time": "2023-07-01T01:45:32.759720",
     "exception": false,
     "start_time": "2023-07-01T01:45:32.755584",
     "status": "completed"
    },
    "tags": []
   },
   "source": [
    "Inspect your predictions and actual values from validation data."
   ]
  },
  {
   "cell_type": "code",
   "execution_count": 8,
   "id": "0f5684ee",
   "metadata": {
    "execution": {
     "iopub.execute_input": "2023-07-01T01:45:32.770157Z",
     "iopub.status.busy": "2023-07-01T01:45:32.769792Z",
     "iopub.status.idle": "2023-07-01T01:45:32.777622Z",
     "shell.execute_reply": "2023-07-01T01:45:32.776175Z"
    },
    "papermill": {
     "duration": 0.015901,
     "end_time": "2023-07-01T01:45:32.779994",
     "exception": false,
     "start_time": "2023-07-01T01:45:32.764093",
     "status": "completed"
    },
    "tags": []
   },
   "outputs": [
    {
     "name": "stdout",
     "output_type": "stream",
     "text": [
      "[186500. 184000. 130000.  92000. 164500.]\n",
      "258     231500\n",
      "267     179500\n",
      "288     122000\n",
      "649      84500\n",
      "1233    142000\n",
      "Name: SalePrice, dtype: int64\n"
     ]
    }
   ],
   "source": [
    "# print the top few validation predictions\n",
    "print(iowa_model.predict(val_X.head()))\n",
    "# print the top few actual prices from validation data\n",
    "print(val_y.head())"
   ]
  },
  {
   "cell_type": "markdown",
   "id": "b79e6628",
   "metadata": {
    "papermill": {
     "duration": 0.004391,
     "end_time": "2023-07-01T01:45:32.789552",
     "exception": false,
     "start_time": "2023-07-01T01:45:32.785161",
     "status": "completed"
    },
    "tags": []
   },
   "source": [
    "What do you notice that is different from what you saw with in-sample predictions (which are printed after the top code cell in this page).\n",
    "\n",
    "Do you remember why validation predictions differ from in-sample (or training) predictions? This is an important idea from the last lesson.\n",
    "\n",
    "## Step 4: Calculate the Mean Absolute Error in Validation Data\n"
   ]
  },
  {
   "cell_type": "code",
   "execution_count": 9,
   "id": "92f0d0d1",
   "metadata": {
    "execution": {
     "iopub.execute_input": "2023-07-01T01:45:32.800584Z",
     "iopub.status.busy": "2023-07-01T01:45:32.800010Z",
     "iopub.status.idle": "2023-07-01T01:45:32.809323Z",
     "shell.execute_reply": "2023-07-01T01:45:32.808138Z"
    },
    "papermill": {
     "duration": 0.017375,
     "end_time": "2023-07-01T01:45:32.811594",
     "exception": false,
     "start_time": "2023-07-01T01:45:32.794219",
     "status": "completed"
    },
    "tags": []
   },
   "outputs": [
    {
     "name": "stdout",
     "output_type": "stream",
     "text": [
      "29652.931506849316\n"
     ]
    },
    {
     "data": {
      "application/javascript": [
       "parent.postMessage({\"jupyterEvent\": \"custom.exercise_interaction\", \"data\": {\"outcomeType\": 1, \"valueTowardsCompletion\": 0.25, \"interactionType\": 1, \"questionType\": 1, \"questionId\": \"4_MAE\", \"learnToolsVersion\": \"0.3.4\", \"failureMessage\": \"\", \"exceptionClass\": \"\", \"trace\": \"\"}}, \"*\")"
      ],
      "text/plain": [
       "<IPython.core.display.Javascript object>"
      ]
     },
     "metadata": {},
     "output_type": "display_data"
    },
    {
     "data": {
      "text/markdown": [
       "<span style=\"color:#33cc33\">Correct</span>"
      ],
      "text/plain": [
       "Correct"
      ]
     },
     "metadata": {},
     "output_type": "display_data"
    }
   ],
   "source": [
    "from sklearn.metrics import mean_absolute_error\n",
    "val_mae = mean_absolute_error(val_predictions,val_y)\n",
    "\n",
    "# uncomment following line to see the validation_mae\n",
    "print(val_mae)\n",
    "\n",
    "# Check your answer\n",
    "step_4.check()"
   ]
  },
  {
   "cell_type": "code",
   "execution_count": 10,
   "id": "30e05e1b",
   "metadata": {
    "execution": {
     "iopub.execute_input": "2023-07-01T01:45:32.823332Z",
     "iopub.status.busy": "2023-07-01T01:45:32.822955Z",
     "iopub.status.idle": "2023-07-01T01:45:32.827535Z",
     "shell.execute_reply": "2023-07-01T01:45:32.826241Z"
    },
    "papermill": {
     "duration": 0.013195,
     "end_time": "2023-07-01T01:45:32.830050",
     "exception": false,
     "start_time": "2023-07-01T01:45:32.816855",
     "status": "completed"
    },
    "tags": []
   },
   "outputs": [],
   "source": [
    "# step_4.hint()\n",
    "# step_4.solution()"
   ]
  },
  {
   "cell_type": "markdown",
   "id": "c7da95b6",
   "metadata": {
    "papermill": {
     "duration": 0.005203,
     "end_time": "2023-07-01T01:45:32.840665",
     "exception": false,
     "start_time": "2023-07-01T01:45:32.835462",
     "status": "completed"
    },
    "tags": []
   },
   "source": [
    "Is that MAE good?  There isn't a general rule for what values are good that applies across applications. But you'll see how to use (and improve) this number in the next step.\n",
    "\n",
    "# Keep Going\n",
    "\n",
    "You are ready for **[Underfitting and Overfitting](https://www.kaggle.com/dansbecker/underfitting-and-overfitting).**\n"
   ]
  },
  {
   "cell_type": "markdown",
   "id": "fd60a436",
   "metadata": {
    "papermill": {
     "duration": 0.004536,
     "end_time": "2023-07-01T01:45:32.850098",
     "exception": false,
     "start_time": "2023-07-01T01:45:32.845562",
     "status": "completed"
    },
    "tags": []
   },
   "source": [
    "---\n",
    "\n",
    "\n",
    "\n",
    "\n",
    "*Have questions or comments? Visit the [course discussion forum](https://www.kaggle.com/learn/intro-to-machine-learning/discussion) to chat with other learners.*"
   ]
  }
 ],
 "metadata": {
  "kernelspec": {
   "display_name": "Python 3",
   "language": "python",
   "name": "python3"
  },
  "language_info": {
   "codemirror_mode": {
    "name": "ipython",
    "version": 3
   },
   "file_extension": ".py",
   "mimetype": "text/x-python",
   "name": "python",
   "nbconvert_exporter": "python",
   "pygments_lexer": "ipython3",
   "version": "3.10.10"
  },
  "papermill": {
   "default_parameters": {},
   "duration": 12.265454,
   "end_time": "2023-07-01T01:45:33.776244",
   "environment_variables": {},
   "exception": null,
   "input_path": "__notebook__.ipynb",
   "output_path": "__notebook__.ipynb",
   "parameters": {},
   "start_time": "2023-07-01T01:45:21.510790",
   "version": "2.4.0"
  }
 },
 "nbformat": 4,
 "nbformat_minor": 5
}
