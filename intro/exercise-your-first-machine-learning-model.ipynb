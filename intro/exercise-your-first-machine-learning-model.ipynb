{
 "cells": [
  {
   "cell_type": "markdown",
   "id": "a0d355d2",
   "metadata": {
    "papermill": {
     "duration": 0.005789,
     "end_time": "2023-06-30T19:03:17.715905",
     "exception": false,
     "start_time": "2023-06-30T19:03:17.710116",
     "status": "completed"
    },
    "tags": []
   },
   "source": [
    "**This notebook is an exercise in the [Introduction to Machine Learning](https://www.kaggle.com/learn/intro-to-machine-learning) course.  You can reference the tutorial at [this link](https://www.kaggle.com/dansbecker/your-first-machine-learning-model).**\n",
    "\n",
    "---\n"
   ]
  },
  {
   "cell_type": "markdown",
   "id": "b9c96915",
   "metadata": {
    "papermill": {
     "duration": 0.005876,
     "end_time": "2023-06-30T19:03:17.727035",
     "exception": false,
     "start_time": "2023-06-30T19:03:17.721159",
     "status": "completed"
    },
    "tags": []
   },
   "source": [
    "## Recap\n",
    "So far, you have loaded your data and reviewed it with the following code. Run this cell to set up your coding environment where the previous step left off."
   ]
  },
  {
   "cell_type": "code",
   "execution_count": 1,
   "id": "cbad03a7",
   "metadata": {
    "execution": {
     "iopub.execute_input": "2023-06-30T19:03:17.740154Z",
     "iopub.status.busy": "2023-06-30T19:03:17.739209Z",
     "iopub.status.idle": "2023-06-30T19:03:19.373490Z",
     "shell.execute_reply": "2023-06-30T19:03:19.372302Z"
    },
    "papermill": {
     "duration": 1.644189,
     "end_time": "2023-06-30T19:03:19.376134",
     "exception": false,
     "start_time": "2023-06-30T19:03:17.731945",
     "status": "completed"
    },
    "tags": []
   },
   "outputs": [
    {
     "name": "stdout",
     "output_type": "stream",
     "text": [
      "Setup Complete\n"
     ]
    }
   ],
   "source": [
    "# Code you have previously used to load data\n",
    "import pandas as pd\n",
    "\n",
    "# Path of the file to read\n",
    "iowa_file_path = '../input/home-data-for-ml-course/train.csv'\n",
    "\n",
    "home_data = pd.read_csv(iowa_file_path)\n",
    "\n",
    "# Set up code checking\n",
    "from learntools.core import binder\n",
    "binder.bind(globals())\n",
    "from learntools.machine_learning.ex3 import *\n",
    "\n",
    "print(\"Setup Complete\")"
   ]
  },
  {
   "cell_type": "markdown",
   "id": "d950256f",
   "metadata": {
    "papermill": {
     "duration": 0.004805,
     "end_time": "2023-06-30T19:03:19.386103",
     "exception": false,
     "start_time": "2023-06-30T19:03:19.381298",
     "status": "completed"
    },
    "tags": []
   },
   "source": [
    "# Exercises\n",
    "\n",
    "## Step 1: Specify Prediction Target\n",
    "Select the target variable, which corresponds to the sales price. Save this to a new variable called `y`. You'll need to print a list of the columns to find the name of the column you need.\n"
   ]
  },
  {
   "cell_type": "code",
   "execution_count": 2,
   "id": "18b520dd",
   "metadata": {
    "execution": {
     "iopub.execute_input": "2023-06-30T19:03:19.397568Z",
     "iopub.status.busy": "2023-06-30T19:03:19.397181Z",
     "iopub.status.idle": "2023-06-30T19:03:19.405422Z",
     "shell.execute_reply": "2023-06-30T19:03:19.404221Z"
    },
    "papermill": {
     "duration": 0.016846,
     "end_time": "2023-06-30T19:03:19.407882",
     "exception": false,
     "start_time": "2023-06-30T19:03:19.391036",
     "status": "completed"
    },
    "tags": []
   },
   "outputs": [
    {
     "data": {
      "text/plain": [
       "Index(['Id', 'MSSubClass', 'MSZoning', 'LotFrontage', 'LotArea', 'Street',\n",
       "       'Alley', 'LotShape', 'LandContour', 'Utilities', 'LotConfig',\n",
       "       'LandSlope', 'Neighborhood', 'Condition1', 'Condition2', 'BldgType',\n",
       "       'HouseStyle', 'OverallQual', 'OverallCond', 'YearBuilt', 'YearRemodAdd',\n",
       "       'RoofStyle', 'RoofMatl', 'Exterior1st', 'Exterior2nd', 'MasVnrType',\n",
       "       'MasVnrArea', 'ExterQual', 'ExterCond', 'Foundation', 'BsmtQual',\n",
       "       'BsmtCond', 'BsmtExposure', 'BsmtFinType1', 'BsmtFinSF1',\n",
       "       'BsmtFinType2', 'BsmtFinSF2', 'BsmtUnfSF', 'TotalBsmtSF', 'Heating',\n",
       "       'HeatingQC', 'CentralAir', 'Electrical', '1stFlrSF', '2ndFlrSF',\n",
       "       'LowQualFinSF', 'GrLivArea', 'BsmtFullBath', 'BsmtHalfBath', 'FullBath',\n",
       "       'HalfBath', 'BedroomAbvGr', 'KitchenAbvGr', 'KitchenQual',\n",
       "       'TotRmsAbvGrd', 'Functional', 'Fireplaces', 'FireplaceQu', 'GarageType',\n",
       "       'GarageYrBlt', 'GarageFinish', 'GarageCars', 'GarageArea', 'GarageQual',\n",
       "       'GarageCond', 'PavedDrive', 'WoodDeckSF', 'OpenPorchSF',\n",
       "       'EnclosedPorch', '3SsnPorch', 'ScreenPorch', 'PoolArea', 'PoolQC',\n",
       "       'Fence', 'MiscFeature', 'MiscVal', 'MoSold', 'YrSold', 'SaleType',\n",
       "       'SaleCondition', 'SalePrice'],\n",
       "      dtype='object')"
      ]
     },
     "execution_count": 2,
     "metadata": {},
     "output_type": "execute_result"
    }
   ],
   "source": [
    "# print the list of columns in the dataset to find the name of the prediction target\n",
    "home_data.columns"
   ]
  },
  {
   "cell_type": "code",
   "execution_count": 3,
   "id": "595ea846",
   "metadata": {
    "execution": {
     "iopub.execute_input": "2023-06-30T19:03:19.421606Z",
     "iopub.status.busy": "2023-06-30T19:03:19.421229Z",
     "iopub.status.idle": "2023-06-30T19:03:19.436758Z",
     "shell.execute_reply": "2023-06-30T19:03:19.435737Z"
    },
    "papermill": {
     "duration": 0.023946,
     "end_time": "2023-06-30T19:03:19.438762",
     "exception": false,
     "start_time": "2023-06-30T19:03:19.414816",
     "status": "completed"
    },
    "tags": []
   },
   "outputs": [
    {
     "data": {
      "application/javascript": [
       "parent.postMessage({\"jupyterEvent\": \"custom.exercise_interaction\", \"data\": {\"outcomeType\": 1, \"valueTowardsCompletion\": 0.25, \"interactionType\": 1, \"questionType\": 2, \"questionId\": \"1_SetTarget\", \"learnToolsVersion\": \"0.3.4\", \"failureMessage\": \"\", \"exceptionClass\": \"\", \"trace\": \"\"}}, \"*\")"
      ],
      "text/plain": [
       "<IPython.core.display.Javascript object>"
      ]
     },
     "metadata": {},
     "output_type": "display_data"
    },
    {
     "data": {
      "text/markdown": [
       "<span style=\"color:#33cc33\">Correct</span>"
      ],
      "text/plain": [
       "Correct"
      ]
     },
     "metadata": {},
     "output_type": "display_data"
    }
   ],
   "source": [
    "y = home_data.SalePrice\n",
    "\n",
    "# Check your answer\n",
    "step_1.check()"
   ]
  },
  {
   "cell_type": "code",
   "execution_count": 4,
   "id": "486554aa",
   "metadata": {
    "collapsed": true,
    "execution": {
     "iopub.execute_input": "2023-06-30T19:03:19.451606Z",
     "iopub.status.busy": "2023-06-30T19:03:19.450735Z",
     "iopub.status.idle": "2023-06-30T19:03:19.455145Z",
     "shell.execute_reply": "2023-06-30T19:03:19.454086Z"
    },
    "jupyter": {
     "outputs_hidden": true
    },
    "papermill": {
     "duration": 0.013108,
     "end_time": "2023-06-30T19:03:19.457172",
     "exception": false,
     "start_time": "2023-06-30T19:03:19.444064",
     "status": "completed"
    },
    "tags": []
   },
   "outputs": [],
   "source": [
    "# The lines below will show you a hint or the solution.\n",
    "# step_1.hint() \n",
    "# step_1.solution()"
   ]
  },
  {
   "cell_type": "markdown",
   "id": "86d3f8fb",
   "metadata": {
    "papermill": {
     "duration": 0.004983,
     "end_time": "2023-06-30T19:03:19.467465",
     "exception": false,
     "start_time": "2023-06-30T19:03:19.462482",
     "status": "completed"
    },
    "tags": []
   },
   "source": [
    "## Step 2: Create X\n",
    "Now you will create a DataFrame called `X` holding the predictive features.\n",
    "\n",
    "Since you want only some columns from the original data, you'll first create a list with the names of the columns you want in `X`.\n",
    "\n",
    "You'll use just the following columns in the list (you can copy and paste the whole list to save some typing, though you'll still need to add quotes):\n",
    "  * LotArea\n",
    "  * YearBuilt\n",
    "  * 1stFlrSF\n",
    "  * 2ndFlrSF\n",
    "  * FullBath\n",
    "  * BedroomAbvGr\n",
    "  * TotRmsAbvGrd\n",
    "\n",
    "After you've created that list of features, use it to create the DataFrame that you'll use to fit the model."
   ]
  },
  {
   "cell_type": "code",
   "execution_count": 5,
   "id": "34f96832",
   "metadata": {
    "execution": {
     "iopub.execute_input": "2023-06-30T19:03:19.480033Z",
     "iopub.status.busy": "2023-06-30T19:03:19.479648Z",
     "iopub.status.idle": "2023-06-30T19:03:19.496068Z",
     "shell.execute_reply": "2023-06-30T19:03:19.494979Z"
    },
    "papermill": {
     "duration": 0.025489,
     "end_time": "2023-06-30T19:03:19.498290",
     "exception": false,
     "start_time": "2023-06-30T19:03:19.472801",
     "status": "completed"
    },
    "tags": []
   },
   "outputs": [
    {
     "data": {
      "application/javascript": [
       "parent.postMessage({\"jupyterEvent\": \"custom.exercise_interaction\", \"data\": {\"outcomeType\": 1, \"valueTowardsCompletion\": 0.25, \"interactionType\": 1, \"questionType\": 2, \"questionId\": \"2_SelectPredictionData\", \"learnToolsVersion\": \"0.3.4\", \"failureMessage\": \"\", \"exceptionClass\": \"\", \"trace\": \"\"}}, \"*\")"
      ],
      "text/plain": [
       "<IPython.core.display.Javascript object>"
      ]
     },
     "metadata": {},
     "output_type": "display_data"
    },
    {
     "data": {
      "text/markdown": [
       "<span style=\"color:#33cc33\">Correct</span>"
      ],
      "text/plain": [
       "Correct"
      ]
     },
     "metadata": {},
     "output_type": "display_data"
    }
   ],
   "source": [
    "# Create the list of features below\n",
    "feature_names = ['LotArea','YearBuilt','1stFlrSF','2ndFlrSF','FullBath','BedroomAbvGr','TotRmsAbvGrd']\n",
    "\n",
    "# Select data corresponding to features in feature_names\n",
    "X = home_data[feature_names]\n",
    "\n",
    "# Check your answer\n",
    "step_2.check()"
   ]
  },
  {
   "cell_type": "code",
   "execution_count": 6,
   "id": "61218bff",
   "metadata": {
    "execution": {
     "iopub.execute_input": "2023-06-30T19:03:19.511381Z",
     "iopub.status.busy": "2023-06-30T19:03:19.511041Z",
     "iopub.status.idle": "2023-06-30T19:03:19.514657Z",
     "shell.execute_reply": "2023-06-30T19:03:19.513803Z"
    },
    "papermill": {
     "duration": 0.012767,
     "end_time": "2023-06-30T19:03:19.516644",
     "exception": false,
     "start_time": "2023-06-30T19:03:19.503877",
     "status": "completed"
    },
    "tags": []
   },
   "outputs": [],
   "source": [
    "# step_2.hint()\n",
    "# step_2.solution()"
   ]
  },
  {
   "cell_type": "markdown",
   "id": "16371086",
   "metadata": {
    "papermill": {
     "duration": 0.005212,
     "end_time": "2023-06-30T19:03:19.527410",
     "exception": false,
     "start_time": "2023-06-30T19:03:19.522198",
     "status": "completed"
    },
    "tags": []
   },
   "source": [
    "## Review Data\n",
    "Before building a model, take a quick look at **X** to verify it looks sensible"
   ]
  },
  {
   "cell_type": "code",
   "execution_count": 7,
   "id": "c870a922",
   "metadata": {
    "execution": {
     "iopub.execute_input": "2023-06-30T19:03:19.540692Z",
     "iopub.status.busy": "2023-06-30T19:03:19.539716Z",
     "iopub.status.idle": "2023-06-30T19:03:19.581303Z",
     "shell.execute_reply": "2023-06-30T19:03:19.580274Z"
    },
    "papermill": {
     "duration": 0.05082,
     "end_time": "2023-06-30T19:03:19.583831",
     "exception": false,
     "start_time": "2023-06-30T19:03:19.533011",
     "status": "completed"
    },
    "tags": []
   },
   "outputs": [
    {
     "data": {
      "text/html": [
       "<div>\n",
       "<style scoped>\n",
       "    .dataframe tbody tr th:only-of-type {\n",
       "        vertical-align: middle;\n",
       "    }\n",
       "\n",
       "    .dataframe tbody tr th {\n",
       "        vertical-align: top;\n",
       "    }\n",
       "\n",
       "    .dataframe thead th {\n",
       "        text-align: right;\n",
       "    }\n",
       "</style>\n",
       "<table border=\"1\" class=\"dataframe\">\n",
       "  <thead>\n",
       "    <tr style=\"text-align: right;\">\n",
       "      <th></th>\n",
       "      <th>LotArea</th>\n",
       "      <th>YearBuilt</th>\n",
       "      <th>1stFlrSF</th>\n",
       "      <th>2ndFlrSF</th>\n",
       "      <th>FullBath</th>\n",
       "      <th>BedroomAbvGr</th>\n",
       "      <th>TotRmsAbvGrd</th>\n",
       "    </tr>\n",
       "  </thead>\n",
       "  <tbody>\n",
       "    <tr>\n",
       "      <th>0</th>\n",
       "      <td>8450</td>\n",
       "      <td>2003</td>\n",
       "      <td>856</td>\n",
       "      <td>854</td>\n",
       "      <td>2</td>\n",
       "      <td>3</td>\n",
       "      <td>8</td>\n",
       "    </tr>\n",
       "    <tr>\n",
       "      <th>1</th>\n",
       "      <td>9600</td>\n",
       "      <td>1976</td>\n",
       "      <td>1262</td>\n",
       "      <td>0</td>\n",
       "      <td>2</td>\n",
       "      <td>3</td>\n",
       "      <td>6</td>\n",
       "    </tr>\n",
       "    <tr>\n",
       "      <th>2</th>\n",
       "      <td>11250</td>\n",
       "      <td>2001</td>\n",
       "      <td>920</td>\n",
       "      <td>866</td>\n",
       "      <td>2</td>\n",
       "      <td>3</td>\n",
       "      <td>6</td>\n",
       "    </tr>\n",
       "    <tr>\n",
       "      <th>3</th>\n",
       "      <td>9550</td>\n",
       "      <td>1915</td>\n",
       "      <td>961</td>\n",
       "      <td>756</td>\n",
       "      <td>1</td>\n",
       "      <td>3</td>\n",
       "      <td>7</td>\n",
       "    </tr>\n",
       "    <tr>\n",
       "      <th>4</th>\n",
       "      <td>14260</td>\n",
       "      <td>2000</td>\n",
       "      <td>1145</td>\n",
       "      <td>1053</td>\n",
       "      <td>2</td>\n",
       "      <td>4</td>\n",
       "      <td>9</td>\n",
       "    </tr>\n",
       "  </tbody>\n",
       "</table>\n",
       "</div>"
      ],
      "text/plain": [
       "   LotArea  YearBuilt  1stFlrSF  2ndFlrSF  FullBath  BedroomAbvGr  \\\n",
       "0     8450       2003       856       854         2             3   \n",
       "1     9600       1976      1262         0         2             3   \n",
       "2    11250       2001       920       866         2             3   \n",
       "3     9550       1915       961       756         1             3   \n",
       "4    14260       2000      1145      1053         2             4   \n",
       "\n",
       "   TotRmsAbvGrd  \n",
       "0             8  \n",
       "1             6  \n",
       "2             6  \n",
       "3             7  \n",
       "4             9  "
      ]
     },
     "execution_count": 7,
     "metadata": {},
     "output_type": "execute_result"
    }
   ],
   "source": [
    "# Review data\n",
    "# print description or statistics from X\n",
    "X.describe()\n",
    "\n",
    "# print the top few lines\n",
    "X.head()"
   ]
  },
  {
   "cell_type": "markdown",
   "id": "0a90920d",
   "metadata": {
    "papermill": {
     "duration": 0.005566,
     "end_time": "2023-06-30T19:03:19.595263",
     "exception": false,
     "start_time": "2023-06-30T19:03:19.589697",
     "status": "completed"
    },
    "tags": []
   },
   "source": [
    "## Step 3: Specify and Fit Model\n",
    "Create a `DecisionTreeRegressor` and save it iowa_model. Ensure you've done the relevant import from sklearn to run this command.\n",
    "\n",
    "Then fit the model you just created using the data in `X` and `y` that you saved above."
   ]
  },
  {
   "cell_type": "code",
   "execution_count": 8,
   "id": "28487d18",
   "metadata": {
    "execution": {
     "iopub.execute_input": "2023-06-30T19:03:19.608770Z",
     "iopub.status.busy": "2023-06-30T19:03:19.608349Z",
     "iopub.status.idle": "2023-06-30T19:03:19.627588Z",
     "shell.execute_reply": "2023-06-30T19:03:19.626795Z"
    },
    "papermill": {
     "duration": 0.028649,
     "end_time": "2023-06-30T19:03:19.629644",
     "exception": false,
     "start_time": "2023-06-30T19:03:19.600995",
     "status": "completed"
    },
    "tags": []
   },
   "outputs": [
    {
     "data": {
      "application/javascript": [
       "parent.postMessage({\"jupyterEvent\": \"custom.exercise_interaction\", \"data\": {\"outcomeType\": 1, \"valueTowardsCompletion\": 0.25, \"interactionType\": 1, \"questionType\": 2, \"questionId\": \"3_CreateModel\", \"learnToolsVersion\": \"0.3.4\", \"failureMessage\": \"\", \"exceptionClass\": \"\", \"trace\": \"\"}}, \"*\")"
      ],
      "text/plain": [
       "<IPython.core.display.Javascript object>"
      ]
     },
     "metadata": {},
     "output_type": "display_data"
    },
    {
     "data": {
      "text/markdown": [
       "<span style=\"color:#33cc33\">Correct</span>"
      ],
      "text/plain": [
       "Correct"
      ]
     },
     "metadata": {},
     "output_type": "display_data"
    }
   ],
   "source": [
    "from sklearn.tree import DecisionTreeRegressor\n",
    "\n",
    "#specify the model. \n",
    "#For model reproducibility, set a numeric value for random_state when specifying the model\n",
    "iowa_model = DecisionTreeRegressor(random_state=1)\n",
    "\n",
    "# Fit the model\n",
    "iowa_model.fit(X,y)\n",
    "\n",
    "# Check your answer\n",
    "step_3.check()"
   ]
  },
  {
   "cell_type": "code",
   "execution_count": 9,
   "id": "f78a8ac8",
   "metadata": {
    "execution": {
     "iopub.execute_input": "2023-06-30T19:03:19.644272Z",
     "iopub.status.busy": "2023-06-30T19:03:19.643325Z",
     "iopub.status.idle": "2023-06-30T19:03:19.648005Z",
     "shell.execute_reply": "2023-06-30T19:03:19.647032Z"
    },
    "papermill": {
     "duration": 0.014544,
     "end_time": "2023-06-30T19:03:19.650231",
     "exception": false,
     "start_time": "2023-06-30T19:03:19.635687",
     "status": "completed"
    },
    "tags": []
   },
   "outputs": [],
   "source": [
    "# step_3.hint()\n",
    "#step_3.solution()"
   ]
  },
  {
   "cell_type": "markdown",
   "id": "0515a2fd",
   "metadata": {
    "papermill": {
     "duration": 0.006627,
     "end_time": "2023-06-30T19:03:19.662943",
     "exception": false,
     "start_time": "2023-06-30T19:03:19.656316",
     "status": "completed"
    },
    "tags": []
   },
   "source": [
    "## Step 4: Make Predictions\n",
    "Make predictions with the model's `predict` command using `X` as the data. Save the results to a variable called `predictions`."
   ]
  },
  {
   "cell_type": "code",
   "execution_count": 10,
   "id": "230b4be7",
   "metadata": {
    "execution": {
     "iopub.execute_input": "2023-06-30T19:03:19.677378Z",
     "iopub.status.busy": "2023-06-30T19:03:19.676646Z",
     "iopub.status.idle": "2023-06-30T19:03:19.690643Z",
     "shell.execute_reply": "2023-06-30T19:03:19.689543Z"
    },
    "papermill": {
     "duration": 0.023458,
     "end_time": "2023-06-30T19:03:19.692715",
     "exception": false,
     "start_time": "2023-06-30T19:03:19.669257",
     "status": "completed"
    },
    "tags": []
   },
   "outputs": [
    {
     "name": "stdout",
     "output_type": "stream",
     "text": [
      "[208500. 181500. 223500. ... 266500. 142125. 147500.]\n"
     ]
    },
    {
     "data": {
      "application/javascript": [
       "parent.postMessage({\"jupyterEvent\": \"custom.exercise_interaction\", \"data\": {\"outcomeType\": 1, \"valueTowardsCompletion\": 0.25, \"interactionType\": 1, \"questionType\": 2, \"questionId\": \"4_MakePredictions\", \"learnToolsVersion\": \"0.3.4\", \"failureMessage\": \"\", \"exceptionClass\": \"\", \"trace\": \"\"}}, \"*\")"
      ],
      "text/plain": [
       "<IPython.core.display.Javascript object>"
      ]
     },
     "metadata": {},
     "output_type": "display_data"
    },
    {
     "data": {
      "text/markdown": [
       "<span style=\"color:#33cc33\">Correct</span>"
      ],
      "text/plain": [
       "Correct"
      ]
     },
     "metadata": {},
     "output_type": "display_data"
    }
   ],
   "source": [
    "predictions = iowa_model.predict(X)\n",
    "print(predictions)\n",
    "\n",
    "# Check your answer\n",
    "step_4.check()"
   ]
  },
  {
   "cell_type": "code",
   "execution_count": 11,
   "id": "df3fd988",
   "metadata": {
    "collapsed": true,
    "execution": {
     "iopub.execute_input": "2023-06-30T19:03:19.707031Z",
     "iopub.status.busy": "2023-06-30T19:03:19.706303Z",
     "iopub.status.idle": "2023-06-30T19:03:19.710873Z",
     "shell.execute_reply": "2023-06-30T19:03:19.709830Z"
    },
    "jupyter": {
     "outputs_hidden": true
    },
    "papermill": {
     "duration": 0.014278,
     "end_time": "2023-06-30T19:03:19.713045",
     "exception": false,
     "start_time": "2023-06-30T19:03:19.698767",
     "status": "completed"
    },
    "tags": []
   },
   "outputs": [],
   "source": [
    "# step_4.hint()\n",
    "# step_4.solution()"
   ]
  },
  {
   "cell_type": "markdown",
   "id": "335b7bf3",
   "metadata": {
    "papermill": {
     "duration": 0.006413,
     "end_time": "2023-06-30T19:03:19.726192",
     "exception": false,
     "start_time": "2023-06-30T19:03:19.719779",
     "status": "completed"
    },
    "tags": []
   },
   "source": [
    "## Think About Your Results\n",
    "\n",
    "Use the `head` method to compare the top few predictions to the actual home values (in `y`) for those same homes. Anything surprising?\n"
   ]
  },
  {
   "cell_type": "code",
   "execution_count": 12,
   "id": "4c38b375",
   "metadata": {
    "execution": {
     "iopub.execute_input": "2023-06-30T19:03:19.741204Z",
     "iopub.status.busy": "2023-06-30T19:03:19.740829Z",
     "iopub.status.idle": "2023-06-30T19:03:19.748161Z",
     "shell.execute_reply": "2023-06-30T19:03:19.747045Z"
    },
    "papermill": {
     "duration": 0.017305,
     "end_time": "2023-06-30T19:03:19.750277",
     "exception": false,
     "start_time": "2023-06-30T19:03:19.732972",
     "status": "completed"
    },
    "tags": []
   },
   "outputs": [
    {
     "data": {
      "text/plain": [
       "0    208500\n",
       "1    181500\n",
       "2    223500\n",
       "3    140000\n",
       "4    250000\n",
       "Name: SalePrice, dtype: int64"
      ]
     },
     "execution_count": 12,
     "metadata": {},
     "output_type": "execute_result"
    }
   ],
   "source": [
    "y.head()\n"
   ]
  },
  {
   "cell_type": "markdown",
   "id": "bd575ffc",
   "metadata": {
    "papermill": {
     "duration": 0.006033,
     "end_time": "2023-06-30T19:03:19.762812",
     "exception": false,
     "start_time": "2023-06-30T19:03:19.756779",
     "status": "completed"
    },
    "tags": []
   },
   "source": [
    "It's natural to ask how accurate the model's predictions will be and how you can improve that. That will be you're next step.\n",
    "\n",
    "# Keep Going\n",
    "\n",
    "You are ready for **[Model Validation](https://www.kaggle.com/dansbecker/model-validation).**\n"
   ]
  },
  {
   "cell_type": "markdown",
   "id": "779a5be1",
   "metadata": {
    "papermill": {
     "duration": 0.006186,
     "end_time": "2023-06-30T19:03:19.775264",
     "exception": false,
     "start_time": "2023-06-30T19:03:19.769078",
     "status": "completed"
    },
    "tags": []
   },
   "source": [
    "---\n",
    "\n",
    "\n",
    "\n",
    "\n",
    "*Have questions or comments? Visit the [course discussion forum](https://www.kaggle.com/learn/intro-to-machine-learning/discussion) to chat with other learners.*"
   ]
  }
 ],
 "metadata": {
  "kernelspec": {
   "display_name": "Python 3",
   "language": "python",
   "name": "python3"
  },
  "language_info": {
   "codemirror_mode": {
    "name": "ipython",
    "version": 3
   },
   "file_extension": ".py",
   "mimetype": "text/x-python",
   "name": "python",
   "nbconvert_exporter": "python",
   "pygments_lexer": "ipython3",
   "version": "3.10.10"
  },
  "papermill": {
   "default_parameters": {},
   "duration": 13.086021,
   "end_time": "2023-06-30T19:03:20.703797",
   "environment_variables": {},
   "exception": null,
   "input_path": "__notebook__.ipynb",
   "output_path": "__notebook__.ipynb",
   "parameters": {},
   "start_time": "2023-06-30T19:03:07.617776",
   "version": "2.4.0"
  }
 },
 "nbformat": 4,
 "nbformat_minor": 5
}
